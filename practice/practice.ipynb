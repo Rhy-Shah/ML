{
 "cells": [
  {
   "cell_type": "code",
   "execution_count": 1,
   "metadata": {},
   "outputs": [],
   "source": [
    "import numpy as np\n",
    "X = np.array([ [ 1, -1], [-1, 1], [2, 2], [-2, -2] ])\n",
    "\n",
    "# Step-1 : Centered data\n",
    "X = X - X.mean(axis=0)\n",
    "\n",
    "# Calculate covariance\n",
    "S = np.matmul(X.T, X)/(X.shape[0]-1)\n",
    "\n",
    "# Eigen values and vectors\n",
    "eigenvalues, eigenvectors = np.linalg.eig(S)"
   ]
  },
  {
   "cell_type": "code",
   "execution_count": 2,
   "metadata": {},
   "outputs": [
    {
     "name": "stdout",
     "output_type": "stream",
     "text": [
      "[5.33333333 1.33333333]\n"
     ]
    }
   ],
   "source": [
    "print(eigenvalues)"
   ]
  },
  {
   "cell_type": "code",
   "execution_count": 3,
   "metadata": {},
   "outputs": [
    {
     "name": "stdout",
     "output_type": "stream",
     "text": [
      "Similarity between the two clusters using Single Linkage algorithm: 0.07669649888473704\n"
     ]
    }
   ],
   "source": [
    "#  Function to calculate Euclidean distance between two points\n",
    "def euclidean_distance(p1, p2):\n",
    "    return np.sqrt((p1[0] - p2[0])**2 + (p1[1] - p2[1])**2)\n",
    "\n",
    "# Given clusters\n",
    "cluster1 = [(10, 2), (4, 15), (0, 15), (3, 12), (7, 8), (4, 8)]\n",
    "cluster2 = [(-1, -5), (-8, -10), (-10, -20), (-4, -20), (-1, -25)]\n",
    "\n",
    "# Initialize minimum distance to a large value\n",
    "min_distance = float('inf')\n",
    "\n",
    "# Iterate over all pairs of points from different clusters and find minimum distance\n",
    "for point1 in cluster1:\n",
    "    for point2 in cluster2:\n",
    "        distance = euclidean_distance(point1, point2)\n",
    "        if distance < min_distance:\n",
    "            min_distance = distance\n",
    "\n",
    "# Similarity between the two clusters is the inverse of the minimum distance\n",
    "similarity = 1 / min_distance\n",
    "\n",
    "print(\"Similarity between the two clusters using Single Linkage algorithm:\", similarity)"
   ]
  }
 ],
 "metadata": {
  "kernelspec": {
   "display_name": "Python 3",
   "language": "python",
   "name": "python3"
  },
  "language_info": {
   "codemirror_mode": {
    "name": "ipython",
    "version": 3
   },
   "file_extension": ".py",
   "mimetype": "text/x-python",
   "name": "python",
   "nbconvert_exporter": "python",
   "pygments_lexer": "ipython3",
   "version": "3.11.6"
  }
 },
 "nbformat": 4,
 "nbformat_minor": 2
}
